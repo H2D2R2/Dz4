{
  "nbformat": 4,
  "nbformat_minor": 0,
  "metadata": {
    "colab": {
      "name": "Домашнее задание 4",
      "provenance": [],
      "collapsed_sections": [],
      "authorship_tag": "ABX9TyN5rL+SEt4kY2Geu3Shbu5j",
      "include_colab_link": true
    },
    "kernelspec": {
      "name": "python3",
      "display_name": "Python 3"
    }
  },
  "cells": [
    {
      "cell_type": "markdown",
      "metadata": {
        "id": "view-in-github",
        "colab_type": "text"
      },
      "source": [
        "<a href=\"https://colab.research.google.com/github/H2D2R2/Dz4/blob/main/%D0%94%D0%BE%D0%BC%D0%B0%D1%88%D0%BD%D0%B5%D0%B5_%D0%B7%D0%B0%D0%B4%D0%B0%D0%BD%D0%B8%D0%B5_4.ipynb\" target=\"_parent\"><img src=\"https://colab.research.google.com/assets/colab-badge.svg\" alt=\"Open In Colab\"/></a>"
      ]
    },
    {
      "cell_type": "markdown",
      "metadata": {
        "id": "DCrCZfjnbrxu"
      },
      "source": [
        "# Задание 1 \n",
        "\n",
        "Случайная непрерывная величина A имеет равномерное распределение на промежутке (200, 800].\n",
        "Найдите ее среднее значение и дисперсию."
      ]
    },
    {
      "cell_type": "code",
      "metadata": {
        "colab": {
          "base_uri": "https://localhost:8080/"
        },
        "id": "Zs60M114MpU7",
        "outputId": "6860d03e-7da7-47bd-e23c-d5ee5ce45699"
      },
      "source": [
        "A = 200\n",
        "B = 800\n",
        "M = (A+B)/2\n",
        "M"
      ],
      "execution_count": 3,
      "outputs": [
        {
          "output_type": "execute_result",
          "data": {
            "text/plain": [
              "500.0"
            ]
          },
          "metadata": {
            "tags": []
          },
          "execution_count": 3
        }
      ]
    },
    {
      "cell_type": "code",
      "metadata": {
        "colab": {
          "base_uri": "https://localhost:8080/"
        },
        "id": "tjg4kENgM0xG",
        "outputId": "841a2693-bd8c-4021-8745-8d34a76b9cf9"
      },
      "source": [
        "D = (B-A)**2/12\n",
        "D"
      ],
      "execution_count": 5,
      "outputs": [
        {
          "output_type": "execute_result",
          "data": {
            "text/plain": [
              "30000.0"
            ]
          },
          "metadata": {
            "tags": []
          },
          "execution_count": 5
        }
      ]
    },
    {
      "cell_type": "markdown",
      "metadata": {
        "id": "T4nIjmczNG52"
      },
      "source": [
        "Ответ: среднее значение - 500, дисперсия - 500"
      ]
    },
    {
      "cell_type": "markdown",
      "metadata": {
        "id": "TC6rPelCNQYw"
      },
      "source": [
        "# Задание 2\n",
        "\n",
        "О случайной непрерывной равномерно распределенной величине B известно, что ее дисперсия равна 0.2.\n",
        "Можно ли найти правую границу величины B и ее среднее значение зная, что левая граница равна 0.5?\n",
        "Если да, найдите ее."
      ]
    },
    {
      "cell_type": "code",
      "metadata": {
        "colab": {
          "base_uri": "https://localhost:8080/"
        },
        "id": "XhlBFRThNTzI",
        "outputId": "38ded173-b2ce-4718-85ce-9149b031461e"
      },
      "source": [
        "D = 0.2\n",
        "a = 0.5\n",
        "b = 0.5 + (0.2*12)**1/2\n",
        "b"
      ],
      "execution_count": 7,
      "outputs": [
        {
          "output_type": "execute_result",
          "data": {
            "text/plain": [
              "1.7000000000000002"
            ]
          },
          "metadata": {
            "tags": []
          },
          "execution_count": 7
        }
      ]
    },
    {
      "cell_type": "code",
      "metadata": {
        "colab": {
          "base_uri": "https://localhost:8080/"
        },
        "id": "VksiMXV-OR9f",
        "outputId": "3947f634-0876-4dc6-c5c9-985b7e2a2634"
      },
      "source": [
        "m = (a+b)/2\n",
        "m"
      ],
      "execution_count": 8,
      "outputs": [
        {
          "output_type": "execute_result",
          "data": {
            "text/plain": [
              "1.1"
            ]
          },
          "metadata": {
            "tags": []
          },
          "execution_count": 8
        }
      ]
    },
    {
      "cell_type": "markdown",
      "metadata": {
        "id": "peveirqXOY9w"
      },
      "source": [
        "Ответ: Правая граница величины - 1,7; Среднее значение 1.1"
      ]
    },
    {
      "cell_type": "markdown",
      "metadata": {
        "id": "GbZ3J0r6OmV1"
      },
      "source": [
        "# Задание 3\n",
        "\n",
        "Непрерывная случайная величина X распределена нормально и задана плотностью распределения f(x) = (1 / (4 * sqrt(2*pi))) * (exp(-((x+2)**2) / 32))\n",
        "Найдите:\n",
        "а). M(X)\n",
        "б). D(X)\n",
        "в). std(X) (среднее квадратичное отклонение)"
      ]
    },
    {
      "cell_type": "code",
      "metadata": {
        "colab": {
          "base_uri": "https://localhost:8080/"
        },
        "id": "k70ggMFBOqQ3",
        "outputId": "018c7e9d-04e7-4f84-8e1d-d82b5ef170a0"
      },
      "source": [
        "M = -2\n",
        "s = 4\n",
        "D = s **2 \n",
        "D"
      ],
      "execution_count": 9,
      "outputs": [
        {
          "output_type": "execute_result",
          "data": {
            "text/plain": [
              "16"
            ]
          },
          "metadata": {
            "tags": []
          },
          "execution_count": 9
        }
      ]
    },
    {
      "cell_type": "markdown",
      "metadata": {
        "id": "taytVtqiPoau"
      },
      "source": [
        "Ответ: Математическое ожидание -2; Cреднее отклонение 4; Дисперсия 16;"
      ]
    },
    {
      "cell_type": "markdown",
      "metadata": {
        "id": "O1Yya-GfQFgI"
      },
      "source": [
        "# Задание 4\n",
        "\n",
        "Рост взрослого населения города X имеет нормальное распределение.\n",
        "Причем, средний рост равен 174 см, а среднее квадратичное отклонение равно 8 см.\n",
        "Какова вероятность того, что случайным образом выбранный взрослый человек имеет рост:\n",
        "а). больше 182 см\n",
        "б). больше 190 см\n",
        "в). от 166 см до 190 см\n",
        "г). от 166 см до 182 см\n",
        "д). от 158 см до 190 см\n",
        "е). не выше 150 см или не ниже 190 см\n",
        "ё). не выше 150 см или не ниже 198 см\n",
        "ж). ниже 166 см."
      ]
    },
    {
      "cell_type": "code",
      "metadata": {
        "colab": {
          "base_uri": "https://localhost:8080/"
        },
        "id": "potEGsG5QA2Z",
        "outputId": "6b88b842-1c22-4044-d293-5f616994bc10"
      },
      "source": [
        "s1 = 34.1\n",
        "s2 = 13.6\n",
        "s3 = 2.15\n",
        "s4 = 0.15\n",
        "\n",
        "A = s2+s3+s4\n",
        "A"
      ],
      "execution_count": 17,
      "outputs": [
        {
          "output_type": "execute_result",
          "data": {
            "text/plain": [
              "15.9"
            ]
          },
          "metadata": {
            "tags": []
          },
          "execution_count": 17
        }
      ]
    },
    {
      "cell_type": "code",
      "metadata": {
        "colab": {
          "base_uri": "https://localhost:8080/"
        },
        "id": "SqEIn66dSKFI",
        "outputId": "f4634673-fac7-4481-ae75-81c94af7be22"
      },
      "source": [
        "B = s3+s4\n",
        "B"
      ],
      "execution_count": 18,
      "outputs": [
        {
          "output_type": "execute_result",
          "data": {
            "text/plain": [
              "2.3"
            ]
          },
          "metadata": {
            "tags": []
          },
          "execution_count": 18
        }
      ]
    },
    {
      "cell_type": "code",
      "metadata": {
        "colab": {
          "base_uri": "https://localhost:8080/"
        },
        "id": "q79kjEcbSRO8",
        "outputId": "2dd9bf3b-8029-44ef-e41b-aa2c551fc2d0"
      },
      "source": [
        "V = s1+s1+s2\n",
        "V"
      ],
      "execution_count": 19,
      "outputs": [
        {
          "output_type": "execute_result",
          "data": {
            "text/plain": [
              "81.8"
            ]
          },
          "metadata": {
            "tags": []
          },
          "execution_count": 19
        }
      ]
    },
    {
      "cell_type": "code",
      "metadata": {
        "colab": {
          "base_uri": "https://localhost:8080/"
        },
        "id": "QTjD75rYSwHo",
        "outputId": "deed5907-3a41-448a-eeaf-1c23c103f0e8"
      },
      "source": [
        "G = s1*2\n",
        "G"
      ],
      "execution_count": 20,
      "outputs": [
        {
          "output_type": "execute_result",
          "data": {
            "text/plain": [
              "68.2"
            ]
          },
          "metadata": {
            "tags": []
          },
          "execution_count": 20
        }
      ]
    },
    {
      "cell_type": "code",
      "metadata": {
        "colab": {
          "base_uri": "https://localhost:8080/"
        },
        "id": "otHxcOeiS2nJ",
        "outputId": "84b9253c-32e3-42dd-fc72-f04d2025eaf3"
      },
      "source": [
        "D = s1*2 + s2*2\n",
        "D"
      ],
      "execution_count": 21,
      "outputs": [
        {
          "output_type": "execute_result",
          "data": {
            "text/plain": [
              "95.4"
            ]
          },
          "metadata": {
            "tags": []
          },
          "execution_count": 21
        }
      ]
    },
    {
      "cell_type": "code",
      "metadata": {
        "colab": {
          "base_uri": "https://localhost:8080/"
        },
        "id": "4h3gHOw_TAH5",
        "outputId": "e5ce6d0c-d60e-4622-fe0f-5d7f12a2d8ed"
      },
      "source": [
        "E = s4*2 + s3\n",
        "E"
      ],
      "execution_count": 22,
      "outputs": [
        {
          "output_type": "execute_result",
          "data": {
            "text/plain": [
              "2.4499999999999997"
            ]
          },
          "metadata": {
            "tags": []
          },
          "execution_count": 22
        }
      ]
    },
    {
      "cell_type": "code",
      "metadata": {
        "colab": {
          "base_uri": "https://localhost:8080/"
        },
        "id": "2fr8V1QgTLph",
        "outputId": "4f019e85-0308-4c54-e2ed-1f7cbf616ebf"
      },
      "source": [
        "EO = s4*2\n",
        "EO"
      ],
      "execution_count": 23,
      "outputs": [
        {
          "output_type": "execute_result",
          "data": {
            "text/plain": [
              "0.3"
            ]
          },
          "metadata": {
            "tags": []
          },
          "execution_count": 23
        }
      ]
    },
    {
      "cell_type": "code",
      "metadata": {
        "colab": {
          "base_uri": "https://localhost:8080/"
        },
        "id": "lRaw6XfdTUu7",
        "outputId": "72ac4bb5-6790-4f09-b3d4-1a0aaacd08ee"
      },
      "source": [
        "J = s2+s3+s4\n",
        "J"
      ],
      "execution_count": 24,
      "outputs": [
        {
          "output_type": "execute_result",
          "data": {
            "text/plain": [
              "15.9"
            ]
          },
          "metadata": {
            "tags": []
          },
          "execution_count": 24
        }
      ]
    },
    {
      "cell_type": "markdown",
      "metadata": {
        "id": "PwxikhByTash"
      },
      "source": [
        "Ответ: А)15.9 Б)2.3 B)81.8 Г)68.2 Д)95.4 Е)2.4 Ё)0.3 Ж)15.9"
      ]
    },
    {
      "cell_type": "markdown",
      "metadata": {
        "id": "r0Q0vcC5T3Cd"
      },
      "source": [
        "# Задание 5\n",
        "\n",
        "На сколько сигм (средних квадратичных отклонений) отклоняется рост человека, равный 190 см, от\n",
        "математического ожидания роста в популяции, в которой M(X) = 178 см и D(X) = 25 кв.см?"
      ]
    },
    {
      "cell_type": "code",
      "metadata": {
        "colab": {
          "base_uri": "https://localhost:8080/"
        },
        "id": "fiZPGo0vT2hE",
        "outputId": "e58effbb-b31f-4920-b628-d7c7a036d770"
      },
      "source": [
        "D = 25; std = 5\n",
        "M = 178\n",
        "X = 190\n",
        "\n",
        "Nsigm = (X-M)/std\n",
        "Nsigm"
      ],
      "execution_count": 25,
      "outputs": [
        {
          "output_type": "execute_result",
          "data": {
            "text/plain": [
              "2.4"
            ]
          },
          "metadata": {
            "tags": []
          },
          "execution_count": 25
        }
      ]
    },
    {
      "cell_type": "markdown",
      "metadata": {
        "id": "CAXSm9WhUh4h"
      },
      "source": [
        "Ответ: 2.4 сигмы"
      ]
    }
  ]
}